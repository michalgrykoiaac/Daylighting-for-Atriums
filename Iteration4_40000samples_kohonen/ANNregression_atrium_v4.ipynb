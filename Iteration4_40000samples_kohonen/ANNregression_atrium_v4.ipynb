{
  "nbformat": 4,
  "nbformat_minor": 0,
  "metadata": {
    "colab": {
      "name": "ANNregression_atrium_v4",
      "provenance": [],
      "collapsed_sections": []
    },
    "kernelspec": {
      "name": "python3",
      "display_name": "Python 3"
    },
    "language_info": {
      "name": "python"
    }
  },
  "cells": [
    {
      "cell_type": "markdown",
      "metadata": {
        "id": "aavFGckZVCfU"
      },
      "source": [
        "#Numerical regression"
      ]
    },
    {
      "cell_type": "markdown",
      "metadata": {
        "id": "2PvW4Hn9VFIS"
      },
      "source": [
        "in this example we will use Keras to predict wages based on various professional and demographic factors."
      ]
    },
    {
      "cell_type": "code",
      "metadata": {
        "id": "vwueWxGEVLk1",
        "colab": {
          "base_uri": "https://localhost:8080/"
        },
        "outputId": "4845b226-78e9-4a49-93af-a54d851f4056"
      },
      "source": [
        "# Import standard Libraries\n",
        "import pandas as pd\n",
        "import seaborn as sns\n",
        "import altair as alt\n",
        "import tensorflow as tf\n",
        "import matplotlib.pyplot as plt\n",
        "import joblib\n",
        "\n",
        "\n",
        "sns.set(rc={'figure.figsize':(10,10)})\n",
        "print(\"imports ok\")"
      ],
      "execution_count": 8,
      "outputs": [
        {
          "output_type": "stream",
          "name": "stdout",
          "text": [
            "imports ok\n"
          ]
        }
      ]
    },
    {
      "cell_type": "markdown",
      "metadata": {
        "id": "n74tPoRCCyJK"
      },
      "source": [
        "##Load Data"
      ]
    },
    {
      "cell_type": "code",
      "metadata": {
        "id": "UDsLccXgE69X",
        "colab": {
          "base_uri": "https://localhost:8080/"
        },
        "outputId": "d63744a4-586c-41ab-8bc2-0cad98e8c3ae"
      },
      "source": [
        "#connect google drive to this colab\n",
        "from google.colab import drive\n",
        "drive.mount('/content/gdrive')"
      ],
      "execution_count": 9,
      "outputs": [
        {
          "output_type": "stream",
          "name": "stdout",
          "text": [
            "Drive already mounted at /content/gdrive; to attempt to forcibly remount, call drive.mount(\"/content/gdrive\", force_remount=True).\n"
          ]
        }
      ]
    },
    {
      "cell_type": "code",
      "metadata": {
        "id": "a13oEGYhFaOk"
      },
      "source": [
        "# Load data\n",
        "data = pd.read_csv('/content/gdrive/MyDrive/ColabNotebooks/DataEncoding/atrium_SDA+ASE_regression_analysis/Iteration4_40000samples_kohonen/atriumSimplifiedSDA+ASE+View_v4_40000samples.csv', delimiter= \" \")\n",
        "#pd.set_option('display.max_columns', None)\n",
        "#data.dropna(inplace=True)"
      ],
      "execution_count": 10,
      "outputs": []
    },
    {
      "cell_type": "code",
      "metadata": {
        "id": "ahqyPaG4ZHCC",
        "colab": {
          "base_uri": "https://localhost:8080/"
        },
        "outputId": "a29c6c84-941f-439f-a334-b18aa13a2cf2"
      },
      "source": [
        "print(data.info())"
      ],
      "execution_count": 11,
      "outputs": [
        {
          "output_type": "stream",
          "name": "stdout",
          "text": [
            "<class 'pandas.core.frame.DataFrame'>\n",
            "RangeIndex: 40000 entries, 0 to 39999\n",
            "Data columns (total 17 columns):\n",
            " #   Column                     Non-Null Count  Dtype  \n",
            "---  ------                     --------------  -----  \n",
            " 0   typicalFacadeGlazingRatio  40000 non-null  float64\n",
            " 1   typicalFacadeWindowWidth   40000 non-null  float64\n",
            " 2   groundFacadeGlazingRatio   40000 non-null  float64\n",
            " 3   groundFacadeWindowWidth    40000 non-null  float64\n",
            " 4   buildingDepth              40000 non-null  float64\n",
            " 5   balconyWidth               40000 non-null  float64\n",
            " 6   atriumArea                 40000 non-null  float64\n",
            " 7   aspectRatio                40000 non-null  float64\n",
            " 8   groundFloorHeight          40000 non-null  float64\n",
            " 9   typicalfloorHeight         40000 non-null  float64\n",
            " 10  numberLevels               40000 non-null  float64\n",
            " 11  groundSDA                  40000 non-null  float64\n",
            " 12  firstSDA                   40000 non-null  float64\n",
            " 13  groundASE                  40000 non-null  float64\n",
            " 14  firstASE                   40000 non-null  float64\n",
            " 15  groundViewPercentage       40000 non-null  float64\n",
            " 16  firstViewPercentage        40000 non-null  float64\n",
            "dtypes: float64(17)\n",
            "memory usage: 5.2 MB\n",
            "None\n"
          ]
        }
      ]
    },
    {
      "cell_type": "code",
      "source": [
        "data.shape"
      ],
      "metadata": {
        "colab": {
          "base_uri": "https://localhost:8080/"
        },
        "id": "H8Trw_aONAfI",
        "outputId": "107e1a13-851c-400f-f8a5-39af37798065"
      },
      "execution_count": 12,
      "outputs": [
        {
          "output_type": "execute_result",
          "data": {
            "text/plain": [
              "(40000, 17)"
            ]
          },
          "metadata": {},
          "execution_count": 12
        }
      ]
    },
    {
      "cell_type": "code",
      "metadata": {
        "id": "cAb6E4TZZohN",
        "colab": {
          "base_uri": "https://localhost:8080/"
        },
        "outputId": "49f1d0b1-e641-4ae2-8a20-e292c1648c78"
      },
      "source": [
        "for colname, col in data.iteritems():\n",
        "  print(colname, \"min_val\", col.min(), \"max_val\", col.max())"
      ],
      "execution_count": 13,
      "outputs": [
        {
          "output_type": "stream",
          "name": "stdout",
          "text": [
            "typicalFacadeGlazingRatio min_val 0.1 max_val 1.0\n",
            "typicalFacadeWindowWidth min_val 0.2 max_val 2.0\n",
            "groundFacadeGlazingRatio min_val 0.1 max_val 1.0\n",
            "groundFacadeWindowWidth min_val 0.2 max_val 3.0\n",
            "buildingDepth min_val 0.9 max_val 39.8\n",
            "balconyWidth min_val 0.1 max_val 2.9\n",
            "atriumArea min_val 19.1 max_val 3942.0\n",
            "aspectRatio min_val 0.1 max_val 1.3\n",
            "groundFloorHeight min_val 0.3 max_val 6.0\n",
            "typicalfloorHeight min_val 0.2 max_val 3.1\n",
            "numberLevels min_val 0.2 max_val 9.9\n",
            "groundSDA min_val 1.7 max_val 100.0\n",
            "firstSDA min_val 2.2 max_val 99.3\n",
            "groundASE min_val 1.2 max_val 61.3\n",
            "firstASE min_val 1.2 max_val 31.6\n",
            "groundViewPercentage min_val 1.5 max_val 89.9\n",
            "firstViewPercentage min_val 1.8 max_val 89.7\n"
          ]
        }
      ]
    },
    {
      "cell_type": "markdown",
      "metadata": {
        "id": "f0F4fjWvDzXR"
      },
      "source": [
        "##Prepare Data"
      ]
    },
    {
      "cell_type": "markdown",
      "metadata": {
        "id": "ZYVDwtH4a9TU"
      },
      "source": [
        "**NORMALIZE INPUTS**"
      ]
    },
    {
      "cell_type": "code",
      "metadata": {
        "id": "OLbdqNZUI_n0",
        "colab": {
          "base_uri": "https://localhost:8080/"
        },
        "outputId": "26b65bdb-a595-49ce-a469-2911d0f90a10"
      },
      "source": [
        "#same code as last time\n",
        "\n",
        "#declare features\n",
        "#X = data.iloc[:,1:-1]\n",
        "X = data[[\"typicalFacadeGlazingRatio\", \"typicalFacadeWindowWidth\", \"groundFacadeGlazingRatio\", \"groundFacadeWindowWidth\", \"buildingDepth\", \"balconyWidth\", \"atriumArea\", \"aspectRatio\", \"groundFloorHeight\", \"typicalfloorHeight\", \"numberLevels\"]]   \n",
        "\n",
        "# Load and instantiate a StandardSclaer \n",
        "from sklearn.preprocessing import StandardScaler\n",
        "scalerX = StandardScaler()\n",
        "\n",
        "# Apply the scaler to our X-features\n",
        "X_scaled = scalerX.fit_transform(X)\n",
        "\n",
        "print(X_scaled.shape)"
      ],
      "execution_count": 14,
      "outputs": [
        {
          "output_type": "stream",
          "name": "stdout",
          "text": [
            "(40000, 11)\n"
          ]
        }
      ]
    },
    {
      "cell_type": "code",
      "metadata": {
        "id": "OtTK5LuUaqcI",
        "colab": {
          "base_uri": "https://localhost:8080/"
        },
        "outputId": "b1f4201f-77e8-44f0-baab-27acb4f12c7e"
      },
      "source": [
        "#declare regression target\n",
        "#y = data.loc[:,\"wage_per_hour\"].to_numpy()\n",
        "y = data.loc[:, [\"groundSDA\", \"firstSDA\", \"groundASE\", \"firstASE\", \"groundViewPercentage\", \"firstViewPercentage\"]].to_numpy()\n",
        "\n",
        "#y = y.reshape(-1, 1)\n",
        "\n",
        "from sklearn.preprocessing import MinMaxScaler\n",
        "scalerY = MinMaxScaler()\n",
        "\n",
        "\n",
        "#In this case it makes sense to use MinMax scaling because the wage seems like a relative range\n",
        "# Apply the scaler to our Y-features\n",
        "y_scaled = scalerY.fit_transform(y)\n",
        "\n",
        "print(y_scaled.shape)\n",
        "print(y_scaled)\n"
      ],
      "execution_count": 15,
      "outputs": [
        {
          "output_type": "stream",
          "name": "stdout",
          "text": [
            "(40000, 6)\n",
            "[[0.         0.         0.         0.         0.         0.        ]\n",
            " [0.02441506 0.01441813 0.0249584  0.00986842 0.02941176 0.01934016]\n",
            " [0.03051882 0.01956746 0.0266223  0.00328947 0.02828054 0.02389078]\n",
            " ...\n",
            " [0.31332655 0.26467559 0.23460899 0.20723684 0.35294118 0.33788396]\n",
            " [0.30925738 0.25952626 0.2312812  0.22039474 0.34954751 0.3367463 ]\n",
            " [0.3051882  0.25643666 0.22628952 0.21052632 0.34728507 0.32878271]]\n"
          ]
        }
      ]
    },
    {
      "cell_type": "markdown",
      "metadata": {
        "id": "zK5Y5r1iID3q"
      },
      "source": [
        "**SPLIT INTO TRAIN AND TEST**"
      ]
    },
    {
      "cell_type": "code",
      "metadata": {
        "id": "lZAV56sSIKlm"
      },
      "source": [
        "from sklearn.model_selection import train_test_split\n",
        "X_train, X_test, y_train, y_test = train_test_split(X_scaled, y_scaled, test_size = 0.2, random_state = 21)"
      ],
      "execution_count": 16,
      "outputs": []
    },
    {
      "cell_type": "code",
      "metadata": {
        "id": "SiKj7ifPJr5E",
        "colab": {
          "base_uri": "https://localhost:8080/"
        },
        "outputId": "cf181c61-907f-41dc-aee8-17da4987a327"
      },
      "source": [
        "#visualize our data\n",
        "#we can see that scikitlearn doesnt care if it is a dataframe or a numpy array, because they all function on the same way \n",
        "print(\"TRAIN\", \"input\", X_train.shape, \"output\", y_train.shape)\n",
        "print(\"TEST\", \"input\", X_test.shape, \"output\", y_test.shape)\n",
        "print(X_test)\n",
        "print(y_test)"
      ],
      "execution_count": 17,
      "outputs": [
        {
          "output_type": "stream",
          "name": "stdout",
          "text": [
            "TRAIN input (32000, 11) output (32000, 6)\n",
            "TEST input (8000, 11) output (8000, 6)\n",
            "[[-1.55175269 -0.88922651 -2.21081076 ... -0.26049164 -0.64402885\n",
            "  -0.81947733]\n",
            " [ 1.40284116  1.78380744  0.84392919 ...  2.88056359  2.21385158\n",
            "  -1.22243819]\n",
            " [-0.81310423 -0.55509727 -1.44712578 ...  0.41259163  0.01548202\n",
            "  -0.09414778]\n",
            " ...\n",
            " [-0.07445577  0.11316122 -0.68344079 ... -0.48485272  0.23531897\n",
            "   0.79236612]\n",
            " [-1.55175269 -0.55509727  0.0802442  ... -1.04575544 -0.64402885\n",
            "  -0.33592429]\n",
            " [ 0.6641927  -0.55509727  0.84392919 ... -0.03613055 -0.4241919\n",
            "  -0.0135556 ]]\n",
            "[[0.43336724 0.37281153 0.34608985 0.31907895 0.43552036 0.40614334]\n",
            " [0.97761953 0.9454171  0.92512479 0.91447368 0.98076923 0.88850967]\n",
            " [0.54018311 0.46138002 0.4109817  0.39144737 0.60520362 0.58020478]\n",
            " ...\n",
            " [0.39165819 0.32440783 0.24958403 0.27302632 0.61085973 0.592719  ]\n",
            " [0.32960326 0.27806385 0.22795341 0.24013158 0.47058824 0.45506257]\n",
            " [0.45167854 0.38722966 0.33943428 0.33223684 0.55090498 0.5221843 ]]\n"
          ]
        }
      ]
    },
    {
      "cell_type": "markdown",
      "metadata": {
        "id": "d7cAwh56dZ9x"
      },
      "source": [
        "#Build model"
      ]
    },
    {
      "cell_type": "markdown",
      "metadata": {
        "id": "QB79eIKLHPKC"
      },
      "source": [
        "From the cheatSheet\n",
        "Regression between 0 and 1>> \n",
        "      activation = relu for hidden layers / sigmoid for final layer\n",
        "      loss = mean squared error\n",
        "      optimizer = adam\n",
        "      input from data, is 8 columns\n",
        "      output is 1 value prediction"
      ]
    },
    {
      "cell_type": "code",
      "metadata": {
        "id": "vm8wVMjXGbU2"
      },
      "source": [
        "# Instantiate a sequential model\n",
        "#tf.seed(5)\n",
        "#model.save()\n",
        "model = tf.keras.models.Sequential()\n",
        "n_cols = X_scaled.shape[1]  \n",
        "\n",
        "# Add 2 dense layers of 50 and 32 neurons each\n",
        "model.add(tf.keras.layers.Dense(24, input_shape=(n_cols,), activation='relu'))\n",
        "model.add(tf.keras.layers.Dense(12, activation='relu'))\n",
        "model.add(tf.keras.layers.Dense(6, activation='relu'))\n",
        "  \n",
        "# Add a dense layer with 1 value output\n",
        "#model.add(tf.keras.layers.Dense(1, activation= \"linear\"))\n",
        "  \n",
        "# Compile your model \n",
        "model.compile(optimizer = \"adam\", loss = \"mean_squared_error\")\n"
      ],
      "execution_count": 18,
      "outputs": []
    },
    {
      "cell_type": "code",
      "source": [
        ""
      ],
      "metadata": {
        "id": "HMwc8KW2oZ9D"
      },
      "execution_count": 18,
      "outputs": []
    },
    {
      "cell_type": "code",
      "metadata": {
        "id": "nz9jL30qH-XD",
        "colab": {
          "base_uri": "https://localhost:8080/"
        },
        "outputId": "5931a7da-3319-4bf4-d371-348df74eda69"
      },
      "source": [
        "model.summary()"
      ],
      "execution_count": 19,
      "outputs": [
        {
          "output_type": "stream",
          "name": "stdout",
          "text": [
            "Model: \"sequential\"\n",
            "_________________________________________________________________\n",
            " Layer (type)                Output Shape              Param #   \n",
            "=================================================================\n",
            " dense (Dense)               (None, 24)                288       \n",
            "                                                                 \n",
            " dense_1 (Dense)             (None, 12)                300       \n",
            "                                                                 \n",
            " dense_2 (Dense)             (None, 6)                 78        \n",
            "                                                                 \n",
            "=================================================================\n",
            "Total params: 666\n",
            "Trainable params: 666\n",
            "Non-trainable params: 0\n",
            "_________________________________________________________________\n"
          ]
        }
      ]
    },
    {
      "cell_type": "markdown",
      "metadata": {
        "id": "pvaLenUEHmpg"
      },
      "source": [
        "#Train model"
      ]
    },
    {
      "cell_type": "code",
      "metadata": {
        "id": "HRiRCUglH33Z",
        "colab": {
          "base_uri": "https://localhost:8080/"
        },
        "outputId": "69baffa0-bf87-4f58-e85a-436a83dc7b37"
      },
      "source": [
        "# Fit your model to the training data for 200 epochs\n",
        "#we assign this to history variable so we can plot the training data\n",
        "history = model.fit(X_train,y_train,epochs=200, validation_split=0.2)"
      ],
      "execution_count": 20,
      "outputs": [
        {
          "output_type": "stream",
          "name": "stdout",
          "text": [
            "Epoch 1/200\n",
            "800/800 [==============================] - 2s 2ms/step - loss: 0.0272 - val_loss: 0.0026\n",
            "Epoch 2/200\n",
            "800/800 [==============================] - 1s 2ms/step - loss: 0.0017 - val_loss: 0.0010\n",
            "Epoch 3/200\n",
            "800/800 [==============================] - 1s 2ms/step - loss: 8.0483e-04 - val_loss: 6.1491e-04\n",
            "Epoch 4/200\n",
            "800/800 [==============================] - 2s 2ms/step - loss: 5.3203e-04 - val_loss: 4.4368e-04\n",
            "Epoch 5/200\n",
            "800/800 [==============================] - 1s 2ms/step - loss: 4.1593e-04 - val_loss: 4.1865e-04\n",
            "Epoch 6/200\n",
            "800/800 [==============================] - 1s 2ms/step - loss: 3.5506e-04 - val_loss: 3.5440e-04\n",
            "Epoch 7/200\n",
            "800/800 [==============================] - 1s 2ms/step - loss: 3.2046e-04 - val_loss: 3.0869e-04\n",
            "Epoch 8/200\n",
            "800/800 [==============================] - 1s 2ms/step - loss: 2.9918e-04 - val_loss: 3.0348e-04\n",
            "Epoch 9/200\n",
            "800/800 [==============================] - 1s 2ms/step - loss: 2.8831e-04 - val_loss: 3.5334e-04\n",
            "Epoch 10/200\n",
            "800/800 [==============================] - 2s 2ms/step - loss: 2.7944e-04 - val_loss: 2.8351e-04\n",
            "Epoch 11/200\n",
            "800/800 [==============================] - 1s 2ms/step - loss: 2.6835e-04 - val_loss: 2.9015e-04\n",
            "Epoch 12/200\n",
            "800/800 [==============================] - 2s 2ms/step - loss: 2.6246e-04 - val_loss: 2.9193e-04\n",
            "Epoch 13/200\n",
            "800/800 [==============================] - 1s 2ms/step - loss: 2.5288e-04 - val_loss: 2.6298e-04\n",
            "Epoch 14/200\n",
            "800/800 [==============================] - 1s 2ms/step - loss: 2.4908e-04 - val_loss: 2.4412e-04\n",
            "Epoch 15/200\n",
            "800/800 [==============================] - 1s 2ms/step - loss: 2.3956e-04 - val_loss: 2.5346e-04\n",
            "Epoch 16/200\n",
            "800/800 [==============================] - 1s 2ms/step - loss: 2.3512e-04 - val_loss: 2.2541e-04\n",
            "Epoch 17/200\n",
            "800/800 [==============================] - 1s 2ms/step - loss: 2.2896e-04 - val_loss: 2.5625e-04\n",
            "Epoch 18/200\n",
            "800/800 [==============================] - 2s 2ms/step - loss: 2.2086e-04 - val_loss: 2.2684e-04\n",
            "Epoch 19/200\n",
            "800/800 [==============================] - 1s 2ms/step - loss: 2.1801e-04 - val_loss: 2.1631e-04\n",
            "Epoch 20/200\n",
            "800/800 [==============================] - 1s 2ms/step - loss: 2.1013e-04 - val_loss: 2.1142e-04\n",
            "Epoch 21/200\n",
            "800/800 [==============================] - 1s 2ms/step - loss: 2.0807e-04 - val_loss: 2.0455e-04\n",
            "Epoch 22/200\n",
            "800/800 [==============================] - 2s 2ms/step - loss: 1.9954e-04 - val_loss: 2.0580e-04\n",
            "Epoch 23/200\n",
            "800/800 [==============================] - 1s 2ms/step - loss: 1.9869e-04 - val_loss: 1.9639e-04\n",
            "Epoch 24/200\n",
            "800/800 [==============================] - 1s 2ms/step - loss: 1.9671e-04 - val_loss: 2.0013e-04\n",
            "Epoch 25/200\n",
            "800/800 [==============================] - 1s 2ms/step - loss: 1.9664e-04 - val_loss: 1.9382e-04\n",
            "Epoch 26/200\n",
            "800/800 [==============================] - 1s 2ms/step - loss: 1.9454e-04 - val_loss: 1.8641e-04\n",
            "Epoch 27/200\n",
            "800/800 [==============================] - 1s 2ms/step - loss: 1.9285e-04 - val_loss: 1.9075e-04\n",
            "Epoch 28/200\n",
            "800/800 [==============================] - 1s 2ms/step - loss: 1.9289e-04 - val_loss: 1.9693e-04\n",
            "Epoch 29/200\n",
            "800/800 [==============================] - 1s 2ms/step - loss: 1.8923e-04 - val_loss: 2.0152e-04\n",
            "Epoch 30/200\n",
            "800/800 [==============================] - 1s 2ms/step - loss: 1.8823e-04 - val_loss: 1.8433e-04\n",
            "Epoch 31/200\n",
            "800/800 [==============================] - 1s 2ms/step - loss: 1.8875e-04 - val_loss: 1.8893e-04\n",
            "Epoch 32/200\n",
            "800/800 [==============================] - 1s 2ms/step - loss: 1.8653e-04 - val_loss: 1.9368e-04\n",
            "Epoch 33/200\n",
            "800/800 [==============================] - 1s 2ms/step - loss: 1.8854e-04 - val_loss: 1.8812e-04\n",
            "Epoch 34/200\n",
            "800/800 [==============================] - 1s 2ms/step - loss: 1.8403e-04 - val_loss: 1.9039e-04\n",
            "Epoch 35/200\n",
            "800/800 [==============================] - 1s 2ms/step - loss: 1.8403e-04 - val_loss: 1.8650e-04\n",
            "Epoch 36/200\n",
            "800/800 [==============================] - 2s 2ms/step - loss: 1.8504e-04 - val_loss: 1.8548e-04\n",
            "Epoch 37/200\n",
            "800/800 [==============================] - 2s 2ms/step - loss: 1.8352e-04 - val_loss: 1.9175e-04\n",
            "Epoch 38/200\n",
            "800/800 [==============================] - 1s 2ms/step - loss: 1.8356e-04 - val_loss: 2.0141e-04\n",
            "Epoch 39/200\n",
            "800/800 [==============================] - 1s 2ms/step - loss: 1.8327e-04 - val_loss: 1.7811e-04\n",
            "Epoch 40/200\n",
            "800/800 [==============================] - 1s 2ms/step - loss: 1.8139e-04 - val_loss: 1.9479e-04\n",
            "Epoch 41/200\n",
            "800/800 [==============================] - 1s 2ms/step - loss: 1.8032e-04 - val_loss: 1.7726e-04\n",
            "Epoch 42/200\n",
            "800/800 [==============================] - 2s 2ms/step - loss: 1.8114e-04 - val_loss: 1.7879e-04\n",
            "Epoch 43/200\n",
            "800/800 [==============================] - 1s 2ms/step - loss: 1.8134e-04 - val_loss: 1.8261e-04\n",
            "Epoch 44/200\n",
            "800/800 [==============================] - 1s 2ms/step - loss: 1.7920e-04 - val_loss: 1.8331e-04\n",
            "Epoch 45/200\n",
            "800/800 [==============================] - 2s 2ms/step - loss: 1.7989e-04 - val_loss: 1.8692e-04\n",
            "Epoch 46/200\n",
            "800/800 [==============================] - 1s 2ms/step - loss: 1.7853e-04 - val_loss: 1.8746e-04\n",
            "Epoch 47/200\n",
            "800/800 [==============================] - 1s 2ms/step - loss: 1.7787e-04 - val_loss: 1.8828e-04\n",
            "Epoch 48/200\n",
            "800/800 [==============================] - 1s 2ms/step - loss: 1.7930e-04 - val_loss: 1.7972e-04\n",
            "Epoch 49/200\n",
            "800/800 [==============================] - 1s 2ms/step - loss: 1.7546e-04 - val_loss: 1.7956e-04\n",
            "Epoch 50/200\n",
            "800/800 [==============================] - 1s 2ms/step - loss: 1.7785e-04 - val_loss: 1.8112e-04\n",
            "Epoch 51/200\n",
            "800/800 [==============================] - 1s 2ms/step - loss: 1.7892e-04 - val_loss: 1.7953e-04\n",
            "Epoch 52/200\n",
            "800/800 [==============================] - 1s 2ms/step - loss: 1.7582e-04 - val_loss: 1.7879e-04\n",
            "Epoch 53/200\n",
            "800/800 [==============================] - 1s 2ms/step - loss: 1.7429e-04 - val_loss: 2.1272e-04\n",
            "Epoch 54/200\n",
            "800/800 [==============================] - 2s 2ms/step - loss: 1.7778e-04 - val_loss: 1.8508e-04\n",
            "Epoch 55/200\n",
            "800/800 [==============================] - 2s 2ms/step - loss: 1.7762e-04 - val_loss: 1.9213e-04\n",
            "Epoch 56/200\n",
            "800/800 [==============================] - 1s 2ms/step - loss: 1.7485e-04 - val_loss: 1.8987e-04\n",
            "Epoch 57/200\n",
            "800/800 [==============================] - 1s 2ms/step - loss: 1.7376e-04 - val_loss: 1.8239e-04\n",
            "Epoch 58/200\n",
            "800/800 [==============================] - 1s 2ms/step - loss: 1.7342e-04 - val_loss: 1.7881e-04\n",
            "Epoch 59/200\n",
            "800/800 [==============================] - 3s 3ms/step - loss: 1.7458e-04 - val_loss: 1.7057e-04\n",
            "Epoch 60/200\n",
            "800/800 [==============================] - 2s 2ms/step - loss: 1.7348e-04 - val_loss: 1.7612e-04\n",
            "Epoch 61/200\n",
            "800/800 [==============================] - 1s 2ms/step - loss: 1.7231e-04 - val_loss: 1.7493e-04\n",
            "Epoch 62/200\n",
            "800/800 [==============================] - 2s 2ms/step - loss: 1.7164e-04 - val_loss: 1.9057e-04\n",
            "Epoch 63/200\n",
            "800/800 [==============================] - 1s 2ms/step - loss: 1.7250e-04 - val_loss: 1.7929e-04\n",
            "Epoch 64/200\n",
            "800/800 [==============================] - 1s 2ms/step - loss: 1.7354e-04 - val_loss: 1.7050e-04\n",
            "Epoch 65/200\n",
            "800/800 [==============================] - 1s 2ms/step - loss: 1.7241e-04 - val_loss: 1.9068e-04\n",
            "Epoch 66/200\n",
            "800/800 [==============================] - 1s 2ms/step - loss: 1.7266e-04 - val_loss: 1.7381e-04\n",
            "Epoch 67/200\n",
            "800/800 [==============================] - 1s 2ms/step - loss: 1.6984e-04 - val_loss: 1.8622e-04\n",
            "Epoch 68/200\n",
            "800/800 [==============================] - 1s 2ms/step - loss: 1.7186e-04 - val_loss: 1.7195e-04\n",
            "Epoch 69/200\n",
            "800/800 [==============================] - 2s 2ms/step - loss: 1.7196e-04 - val_loss: 1.6907e-04\n",
            "Epoch 70/200\n",
            "800/800 [==============================] - 1s 2ms/step - loss: 1.6966e-04 - val_loss: 1.6770e-04\n",
            "Epoch 71/200\n",
            "800/800 [==============================] - 1s 2ms/step - loss: 1.7288e-04 - val_loss: 1.8002e-04\n",
            "Epoch 72/200\n",
            "800/800 [==============================] - 1s 2ms/step - loss: 1.7018e-04 - val_loss: 1.7203e-04\n",
            "Epoch 73/200\n",
            "800/800 [==============================] - 1s 2ms/step - loss: 1.6908e-04 - val_loss: 1.6589e-04\n",
            "Epoch 74/200\n",
            "800/800 [==============================] - 1s 2ms/step - loss: 1.6964e-04 - val_loss: 1.8276e-04\n",
            "Epoch 75/200\n",
            "800/800 [==============================] - 1s 2ms/step - loss: 1.6984e-04 - val_loss: 1.9503e-04\n",
            "Epoch 76/200\n",
            "800/800 [==============================] - 2s 2ms/step - loss: 1.6856e-04 - val_loss: 1.6461e-04\n",
            "Epoch 77/200\n",
            "800/800 [==============================] - 1s 2ms/step - loss: 1.6748e-04 - val_loss: 2.2235e-04\n",
            "Epoch 78/200\n",
            "800/800 [==============================] - 1s 2ms/step - loss: 1.6870e-04 - val_loss: 1.7193e-04\n",
            "Epoch 79/200\n",
            "800/800 [==============================] - 2s 2ms/step - loss: 1.6868e-04 - val_loss: 1.7715e-04\n",
            "Epoch 80/200\n",
            "800/800 [==============================] - 1s 2ms/step - loss: 1.6976e-04 - val_loss: 1.7006e-04\n",
            "Epoch 81/200\n",
            "800/800 [==============================] - 1s 2ms/step - loss: 1.6727e-04 - val_loss: 1.7340e-04\n",
            "Epoch 82/200\n",
            "800/800 [==============================] - 1s 2ms/step - loss: 1.6779e-04 - val_loss: 1.6660e-04\n",
            "Epoch 83/200\n",
            "800/800 [==============================] - 1s 2ms/step - loss: 1.6776e-04 - val_loss: 1.7320e-04\n",
            "Epoch 84/200\n",
            "800/800 [==============================] - 1s 2ms/step - loss: 1.6764e-04 - val_loss: 1.6578e-04\n",
            "Epoch 85/200\n",
            "800/800 [==============================] - 2s 2ms/step - loss: 1.6835e-04 - val_loss: 1.6652e-04\n",
            "Epoch 86/200\n",
            "800/800 [==============================] - 2s 2ms/step - loss: 1.6763e-04 - val_loss: 1.7688e-04\n",
            "Epoch 87/200\n",
            "800/800 [==============================] - 1s 2ms/step - loss: 1.6771e-04 - val_loss: 1.7050e-04\n",
            "Epoch 88/200\n",
            "800/800 [==============================] - 1s 2ms/step - loss: 1.6639e-04 - val_loss: 1.7460e-04\n",
            "Epoch 89/200\n",
            "800/800 [==============================] - 2s 2ms/step - loss: 1.6640e-04 - val_loss: 1.7767e-04\n",
            "Epoch 90/200\n",
            "800/800 [==============================] - 1s 2ms/step - loss: 1.6716e-04 - val_loss: 1.8088e-04\n",
            "Epoch 91/200\n",
            "800/800 [==============================] - 1s 2ms/step - loss: 1.6668e-04 - val_loss: 1.6446e-04\n",
            "Epoch 92/200\n",
            "800/800 [==============================] - 1s 2ms/step - loss: 1.6738e-04 - val_loss: 1.7575e-04\n",
            "Epoch 93/200\n",
            "800/800 [==============================] - 1s 2ms/step - loss: 1.6611e-04 - val_loss: 1.7224e-04\n",
            "Epoch 94/200\n",
            "800/800 [==============================] - 1s 2ms/step - loss: 1.6557e-04 - val_loss: 1.7332e-04\n",
            "Epoch 95/200\n",
            "800/800 [==============================] - 1s 2ms/step - loss: 1.6742e-04 - val_loss: 1.7247e-04\n",
            "Epoch 96/200\n",
            "800/800 [==============================] - 2s 2ms/step - loss: 1.6625e-04 - val_loss: 1.7659e-04\n",
            "Epoch 97/200\n",
            "800/800 [==============================] - 2s 2ms/step - loss: 1.6510e-04 - val_loss: 1.7218e-04\n",
            "Epoch 98/200\n",
            "800/800 [==============================] - 2s 2ms/step - loss: 1.6820e-04 - val_loss: 1.6980e-04\n",
            "Epoch 99/200\n",
            "800/800 [==============================] - 1s 2ms/step - loss: 1.6562e-04 - val_loss: 1.7815e-04\n",
            "Epoch 100/200\n",
            "800/800 [==============================] - 2s 2ms/step - loss: 1.6435e-04 - val_loss: 1.6396e-04\n",
            "Epoch 101/200\n",
            "800/800 [==============================] - 2s 2ms/step - loss: 1.6464e-04 - val_loss: 1.7239e-04\n",
            "Epoch 102/200\n",
            "800/800 [==============================] - 1s 2ms/step - loss: 1.6484e-04 - val_loss: 1.8005e-04\n",
            "Epoch 103/200\n",
            "800/800 [==============================] - 1s 2ms/step - loss: 1.6728e-04 - val_loss: 2.0083e-04\n",
            "Epoch 104/200\n",
            "800/800 [==============================] - 1s 2ms/step - loss: 1.6457e-04 - val_loss: 1.7270e-04\n",
            "Epoch 105/200\n",
            "800/800 [==============================] - 1s 2ms/step - loss: 1.6491e-04 - val_loss: 1.6926e-04\n",
            "Epoch 106/200\n",
            "800/800 [==============================] - 1s 2ms/step - loss: 1.6419e-04 - val_loss: 1.6842e-04\n",
            "Epoch 107/200\n",
            "800/800 [==============================] - 2s 2ms/step - loss: 1.6659e-04 - val_loss: 1.7372e-04\n",
            "Epoch 108/200\n",
            "800/800 [==============================] - 1s 2ms/step - loss: 1.6449e-04 - val_loss: 1.9062e-04\n",
            "Epoch 109/200\n",
            "800/800 [==============================] - 1s 2ms/step - loss: 1.6600e-04 - val_loss: 1.6854e-04\n",
            "Epoch 110/200\n",
            "800/800 [==============================] - 2s 2ms/step - loss: 1.6449e-04 - val_loss: 1.7106e-04\n",
            "Epoch 111/200\n",
            "800/800 [==============================] - 2s 3ms/step - loss: 1.6468e-04 - val_loss: 1.7201e-04\n",
            "Epoch 112/200\n",
            "800/800 [==============================] - 2s 2ms/step - loss: 1.6391e-04 - val_loss: 1.6623e-04\n",
            "Epoch 113/200\n",
            "800/800 [==============================] - 1s 2ms/step - loss: 1.6476e-04 - val_loss: 1.8205e-04\n",
            "Epoch 114/200\n",
            "800/800 [==============================] - 1s 2ms/step - loss: 1.6415e-04 - val_loss: 1.6683e-04\n",
            "Epoch 115/200\n",
            "800/800 [==============================] - 1s 2ms/step - loss: 1.6233e-04 - val_loss: 1.7214e-04\n",
            "Epoch 116/200\n",
            "800/800 [==============================] - 1s 2ms/step - loss: 1.6290e-04 - val_loss: 1.7814e-04\n",
            "Epoch 117/200\n",
            "800/800 [==============================] - 1s 2ms/step - loss: 1.6564e-04 - val_loss: 1.8332e-04\n",
            "Epoch 118/200\n",
            "800/800 [==============================] - 2s 2ms/step - loss: 1.6564e-04 - val_loss: 1.7308e-04\n",
            "Epoch 119/200\n",
            "800/800 [==============================] - 1s 2ms/step - loss: 1.6458e-04 - val_loss: 1.7080e-04\n",
            "Epoch 120/200\n",
            "800/800 [==============================] - 1s 2ms/step - loss: 1.6228e-04 - val_loss: 1.8219e-04\n",
            "Epoch 121/200\n",
            "800/800 [==============================] - 1s 2ms/step - loss: 1.6469e-04 - val_loss: 1.6952e-04\n",
            "Epoch 122/200\n",
            "800/800 [==============================] - 1s 2ms/step - loss: 1.6679e-04 - val_loss: 1.6174e-04\n",
            "Epoch 123/200\n",
            "800/800 [==============================] - 2s 2ms/step - loss: 1.6397e-04 - val_loss: 1.6311e-04\n",
            "Epoch 124/200\n",
            "800/800 [==============================] - 1s 2ms/step - loss: 1.6413e-04 - val_loss: 1.6685e-04\n",
            "Epoch 125/200\n",
            "800/800 [==============================] - 1s 2ms/step - loss: 1.6248e-04 - val_loss: 1.8066e-04\n",
            "Epoch 126/200\n",
            "800/800 [==============================] - 1s 2ms/step - loss: 1.6292e-04 - val_loss: 1.6255e-04\n",
            "Epoch 127/200\n",
            "800/800 [==============================] - 2s 2ms/step - loss: 1.6645e-04 - val_loss: 1.7143e-04\n",
            "Epoch 128/200\n",
            "800/800 [==============================] - 2s 2ms/step - loss: 1.6253e-04 - val_loss: 1.6570e-04\n",
            "Epoch 129/200\n",
            "800/800 [==============================] - 1s 2ms/step - loss: 1.6277e-04 - val_loss: 1.6009e-04\n",
            "Epoch 130/200\n",
            "800/800 [==============================] - 2s 2ms/step - loss: 1.6214e-04 - val_loss: 1.8297e-04\n",
            "Epoch 131/200\n",
            "800/800 [==============================] - 1s 2ms/step - loss: 1.6374e-04 - val_loss: 1.7132e-04\n",
            "Epoch 132/200\n",
            "800/800 [==============================] - 1s 2ms/step - loss: 1.6362e-04 - val_loss: 1.6976e-04\n",
            "Epoch 133/200\n",
            "800/800 [==============================] - 1s 2ms/step - loss: 1.6327e-04 - val_loss: 1.6640e-04\n",
            "Epoch 134/200\n",
            "800/800 [==============================] - 1s 2ms/step - loss: 1.6186e-04 - val_loss: 1.6008e-04\n",
            "Epoch 135/200\n",
            "800/800 [==============================] - 1s 2ms/step - loss: 1.6317e-04 - val_loss: 1.6175e-04\n",
            "Epoch 136/200\n",
            "800/800 [==============================] - 2s 2ms/step - loss: 1.6425e-04 - val_loss: 1.6817e-04\n",
            "Epoch 137/200\n",
            "800/800 [==============================] - 1s 2ms/step - loss: 1.6231e-04 - val_loss: 1.7265e-04\n",
            "Epoch 138/200\n",
            "800/800 [==============================] - 2s 2ms/step - loss: 1.6342e-04 - val_loss: 1.6594e-04\n",
            "Epoch 139/200\n",
            "800/800 [==============================] - 1s 2ms/step - loss: 1.6115e-04 - val_loss: 1.6632e-04\n",
            "Epoch 140/200\n",
            "800/800 [==============================] - 1s 2ms/step - loss: 1.6088e-04 - val_loss: 1.7191e-04\n",
            "Epoch 141/200\n",
            "800/800 [==============================] - 1s 2ms/step - loss: 1.6243e-04 - val_loss: 1.6738e-04\n",
            "Epoch 142/200\n",
            "800/800 [==============================] - 1s 2ms/step - loss: 1.6046e-04 - val_loss: 1.7029e-04\n",
            "Epoch 143/200\n",
            "800/800 [==============================] - 1s 2ms/step - loss: 1.6372e-04 - val_loss: 1.7867e-04\n",
            "Epoch 144/200\n",
            "800/800 [==============================] - 2s 2ms/step - loss: 1.6351e-04 - val_loss: 1.7170e-04\n",
            "Epoch 145/200\n",
            "800/800 [==============================] - 1s 2ms/step - loss: 1.6006e-04 - val_loss: 1.7173e-04\n",
            "Epoch 146/200\n",
            "800/800 [==============================] - 1s 2ms/step - loss: 1.6221e-04 - val_loss: 1.6080e-04\n",
            "Epoch 147/200\n",
            "800/800 [==============================] - 1s 2ms/step - loss: 1.6297e-04 - val_loss: 1.6203e-04\n",
            "Epoch 148/200\n",
            "800/800 [==============================] - 1s 2ms/step - loss: 1.5940e-04 - val_loss: 1.7622e-04\n",
            "Epoch 149/200\n",
            "800/800 [==============================] - 1s 2ms/step - loss: 1.6175e-04 - val_loss: 1.7491e-04\n",
            "Epoch 150/200\n",
            "800/800 [==============================] - 2s 2ms/step - loss: 1.6180e-04 - val_loss: 1.6342e-04\n",
            "Epoch 151/200\n",
            "800/800 [==============================] - 1s 2ms/step - loss: 1.6150e-04 - val_loss: 1.7106e-04\n",
            "Epoch 152/200\n",
            "800/800 [==============================] - 1s 2ms/step - loss: 1.6181e-04 - val_loss: 1.7950e-04\n",
            "Epoch 153/200\n",
            "800/800 [==============================] - 1s 2ms/step - loss: 1.6184e-04 - val_loss: 1.6986e-04\n",
            "Epoch 154/200\n",
            "800/800 [==============================] - 1s 2ms/step - loss: 1.6357e-04 - val_loss: 1.6721e-04\n",
            "Epoch 155/200\n",
            "800/800 [==============================] - 2s 2ms/step - loss: 1.6084e-04 - val_loss: 1.7737e-04\n",
            "Epoch 156/200\n",
            "800/800 [==============================] - 1s 2ms/step - loss: 1.6074e-04 - val_loss: 1.8637e-04\n",
            "Epoch 157/200\n",
            "800/800 [==============================] - 1s 2ms/step - loss: 1.6254e-04 - val_loss: 1.7215e-04\n",
            "Epoch 158/200\n",
            "800/800 [==============================] - 1s 2ms/step - loss: 1.5941e-04 - val_loss: 1.6176e-04\n",
            "Epoch 159/200\n",
            "800/800 [==============================] - 2s 2ms/step - loss: 1.6123e-04 - val_loss: 1.7428e-04\n",
            "Epoch 160/200\n",
            "800/800 [==============================] - 1s 2ms/step - loss: 1.5998e-04 - val_loss: 1.8670e-04\n",
            "Epoch 161/200\n",
            "800/800 [==============================] - 1s 2ms/step - loss: 1.5964e-04 - val_loss: 1.6123e-04\n",
            "Epoch 162/200\n",
            "800/800 [==============================] - 2s 2ms/step - loss: 1.6152e-04 - val_loss: 1.6951e-04\n",
            "Epoch 163/200\n",
            "800/800 [==============================] - 2s 2ms/step - loss: 1.6107e-04 - val_loss: 1.6156e-04\n",
            "Epoch 164/200\n",
            "800/800 [==============================] - 1s 2ms/step - loss: 1.6116e-04 - val_loss: 1.6749e-04\n",
            "Epoch 165/200\n",
            "800/800 [==============================] - 2s 2ms/step - loss: 1.6000e-04 - val_loss: 1.6017e-04\n",
            "Epoch 166/200\n",
            "800/800 [==============================] - 2s 2ms/step - loss: 1.6189e-04 - val_loss: 1.6504e-04\n",
            "Epoch 167/200\n",
            "800/800 [==============================] - 1s 2ms/step - loss: 1.5999e-04 - val_loss: 1.6307e-04\n",
            "Epoch 168/200\n",
            "800/800 [==============================] - 1s 2ms/step - loss: 1.6052e-04 - val_loss: 1.6044e-04\n",
            "Epoch 169/200\n",
            "800/800 [==============================] - 1s 2ms/step - loss: 1.5945e-04 - val_loss: 1.6666e-04\n",
            "Epoch 170/200\n",
            "800/800 [==============================] - 1s 2ms/step - loss: 1.6044e-04 - val_loss: 1.6761e-04\n",
            "Epoch 171/200\n",
            "800/800 [==============================] - 1s 2ms/step - loss: 1.6060e-04 - val_loss: 1.6304e-04\n",
            "Epoch 172/200\n",
            "800/800 [==============================] - 1s 2ms/step - loss: 1.5861e-04 - val_loss: 1.5833e-04\n",
            "Epoch 173/200\n",
            "800/800 [==============================] - 1s 2ms/step - loss: 1.6106e-04 - val_loss: 1.6673e-04\n",
            "Epoch 174/200\n",
            "800/800 [==============================] - 2s 2ms/step - loss: 1.5956e-04 - val_loss: 1.6199e-04\n",
            "Epoch 175/200\n",
            "800/800 [==============================] - 1s 2ms/step - loss: 1.6053e-04 - val_loss: 1.6538e-04\n",
            "Epoch 176/200\n",
            "800/800 [==============================] - 1s 2ms/step - loss: 1.5921e-04 - val_loss: 1.7348e-04\n",
            "Epoch 177/200\n",
            "800/800 [==============================] - 1s 2ms/step - loss: 1.6112e-04 - val_loss: 1.8011e-04\n",
            "Epoch 178/200\n",
            "800/800 [==============================] - 2s 2ms/step - loss: 1.5860e-04 - val_loss: 1.7860e-04\n",
            "Epoch 179/200\n",
            "800/800 [==============================] - 1s 2ms/step - loss: 1.6031e-04 - val_loss: 1.6437e-04\n",
            "Epoch 180/200\n",
            "800/800 [==============================] - 2s 2ms/step - loss: 1.6174e-04 - val_loss: 2.0317e-04\n",
            "Epoch 181/200\n",
            "800/800 [==============================] - 2s 2ms/step - loss: 1.6117e-04 - val_loss: 1.7788e-04\n",
            "Epoch 182/200\n",
            "800/800 [==============================] - 2s 2ms/step - loss: 1.6107e-04 - val_loss: 1.6472e-04\n",
            "Epoch 183/200\n",
            "800/800 [==============================] - 1s 2ms/step - loss: 1.6036e-04 - val_loss: 1.7635e-04\n",
            "Epoch 184/200\n",
            "800/800 [==============================] - 2s 2ms/step - loss: 1.5922e-04 - val_loss: 1.7262e-04\n",
            "Epoch 185/200\n",
            "800/800 [==============================] - 2s 2ms/step - loss: 1.6114e-04 - val_loss: 1.8179e-04\n",
            "Epoch 186/200\n",
            "800/800 [==============================] - 1s 2ms/step - loss: 1.5845e-04 - val_loss: 1.5979e-04\n",
            "Epoch 187/200\n",
            "800/800 [==============================] - 2s 2ms/step - loss: 1.5903e-04 - val_loss: 1.7956e-04\n",
            "Epoch 188/200\n",
            "800/800 [==============================] - 1s 2ms/step - loss: 1.5941e-04 - val_loss: 1.6461e-04\n",
            "Epoch 189/200\n",
            "800/800 [==============================] - 2s 2ms/step - loss: 1.6039e-04 - val_loss: 1.6260e-04\n",
            "Epoch 190/200\n",
            "800/800 [==============================] - 2s 2ms/step - loss: 1.5914e-04 - val_loss: 1.6881e-04\n",
            "Epoch 191/200\n",
            "800/800 [==============================] - 2s 2ms/step - loss: 1.5861e-04 - val_loss: 1.7735e-04\n",
            "Epoch 192/200\n",
            "800/800 [==============================] - 2s 2ms/step - loss: 1.5999e-04 - val_loss: 1.6021e-04\n",
            "Epoch 193/200\n",
            "800/800 [==============================] - 1s 2ms/step - loss: 1.5856e-04 - val_loss: 1.7535e-04\n",
            "Epoch 194/200\n",
            "800/800 [==============================] - 2s 2ms/step - loss: 1.5973e-04 - val_loss: 1.7438e-04\n",
            "Epoch 195/200\n",
            "800/800 [==============================] - 2s 2ms/step - loss: 1.6016e-04 - val_loss: 1.8023e-04\n",
            "Epoch 196/200\n",
            "800/800 [==============================] - 1s 2ms/step - loss: 1.5900e-04 - val_loss: 1.6335e-04\n",
            "Epoch 197/200\n",
            "800/800 [==============================] - 1s 2ms/step - loss: 1.5984e-04 - val_loss: 1.6913e-04\n",
            "Epoch 198/200\n",
            "800/800 [==============================] - 2s 2ms/step - loss: 1.5809e-04 - val_loss: 1.6153e-04\n",
            "Epoch 199/200\n",
            "800/800 [==============================] - 2s 2ms/step - loss: 1.5800e-04 - val_loss: 1.6986e-04\n",
            "Epoch 200/200\n",
            "800/800 [==============================] - 1s 2ms/step - loss: 1.5748e-04 - val_loss: 1.6491e-04\n"
          ]
        }
      ]
    },
    {
      "cell_type": "code",
      "metadata": {
        "id": "19U1b6Khep0d",
        "colab": {
          "base_uri": "https://localhost:8080/",
          "height": 627
        },
        "outputId": "a7da780c-730d-4d2f-9ca0-dc70241842a4"
      },
      "source": [
        "# summarize history for accuracy\n",
        "plt.plot(history.history['loss'])\n",
        "plt.plot(history.history['val_loss'])\n",
        "plt.title('loss function')\n",
        "plt.ylabel('mse')\n",
        "plt.xlabel('epoch')\n",
        "plt.legend(['train', 'val'], loc='upper left')\n",
        "plt.show()"
      ],
      "execution_count": 21,
      "outputs": [
        {
          "output_type": "display_data",
          "data": {
            "text/plain": [
              "<Figure size 720x720 with 1 Axes>"
            ],
            "image/png": "[encoded data removed]"
          },
          "metadata": {}
        }
      ]
    },
    {
      "cell_type": "markdown",
      "metadata": {
        "id": "XzKD6OTtLBYd"
      },
      "source": [
        "#Evaluate model on test data\n",
        "\n"
      ]
    },
    {
      "cell_type": "code",
      "metadata": {
        "id": "2D2Ih0D1Kp7X",
        "colab": {
          "base_uri": "https://localhost:8080/"
        },
        "outputId": "185f0180-b3f6-4f59-9650-57e01ffe5974"
      },
      "source": [
        "# Evaluate your model accuracy on the test data\n",
        "loss_test = model.evaluate(X_test,y_test)\n",
        "\n",
        "# Print accuracy\n",
        "print('mse_test:', loss_test)"
      ],
      "execution_count": 22,
      "outputs": [
        {
          "output_type": "stream",
          "name": "stdout",
          "text": [
            "250/250 [==============================] - 0s 1ms/step - loss: 1.6530e-04\n",
            "mse_test: 0.00016529971617273986\n"
          ]
        }
      ]
    },
    {
      "cell_type": "markdown",
      "metadata": {
        "id": "lhnPDKogffYb"
      },
      "source": [
        "#Plot error\n"
      ]
    },
    {
      "cell_type": "code",
      "metadata": {
        "id": "L3KJsKY7mkNN"
      },
      "source": [
        ""
      ],
      "execution_count": 22,
      "outputs": []
    },
    {
      "cell_type": "code",
      "metadata": {
        "id": "5Pa1cXJYl6uE"
      },
      "source": [
        "def plot_comparison(x_val, pred, truth, xlab, ylab):\n",
        "  fig, ax1 = plt.subplots()\n",
        "  ax1.plot(x_val, truth, color = \"red\", label = \"truth\",linestyle='None', marker = \"o\", markersize = 5)\n",
        "  ax1.plot(x_val, pred, color = \"blue\", label = \"pred\",linestyle='None', marker = \"o\", markersize = 4, alpha = 0.5)\n",
        "\n",
        "  ax1.set_xlabel(xlab)\n",
        "  ax1.set_ylabel(ylab)\n",
        "  ax1.legend()\n",
        "  fig.set_figheight(10)\n",
        "  fig.set_figwidth(20)\n",
        "  plt.title('Prediction Comparison')\n",
        "  plt.show()"
      ],
      "execution_count": 23,
      "outputs": []
    },
    {
      "cell_type": "code",
      "metadata": {
        "id": "RfwC2ESgjTo7",
        "colab": {
          "base_uri": "https://localhost:8080/",
          "height": 612
        },
        "outputId": "63badfe0-62a8-4d51-9d6a-001ac35c10d2"
      },
      "source": [
        "y_pred = scalerY.inverse_transform(model.predict(X_test))\n",
        "y_truth = scalerY.inverse_transform(y_test)\n",
        "\n",
        "plt.scatter(y_truth,y_pred)"
      ],
      "execution_count": 24,
      "outputs": [
        {
          "output_type": "execute_result",
          "data": {
            "text/plain": [
              "<matplotlib.collections.PathCollection at 0x7f3a9b7e7f10>"
            ]
          },
          "metadata": {},
          "execution_count": 24
        },
        {
          "output_type": "display_data",
          "data": {
            "text/plain": [
              "<Figure size 720x720 with 1 Axes>"
            ],
            "image/png": "[encoded data removed]"
          },
          "metadata": {}
        }
      ]
    },
    {
      "cell_type": "code",
      "source": [
        "#GROUND VIEW PREDICTIONS\n",
        "y_pred_01 = y_pred[:,4]\n",
        "print(y_pred_01.shape)"
      ],
      "metadata": {
        "id": "rMfLsOW1X08O",
        "outputId": "7a4c10d3-b341-467b-87c2-ad8bd65fa903",
        "colab": {
          "base_uri": "https://localhost:8080/"
        }
      },
      "execution_count": 38,
      "outputs": [
        {
          "output_type": "stream",
          "name": "stdout",
          "text": [
            "(8000,)\n"
          ]
        }
      ]
    },
    {
      "cell_type": "code",
      "source": [
        "#GROUND VIEW TRUTH\n",
        "y_truth_01 = y_truth[:,4]\n",
        "print(y_truth_01.shape)"
      ],
      "metadata": {
        "id": "H1-g37wPX3Yc",
        "outputId": "14807a13-e99e-42e5-f3bf-8fae34385b21",
        "colab": {
          "base_uri": "https://localhost:8080/"
        }
      },
      "execution_count": 39,
      "outputs": [
        {
          "output_type": "stream",
          "name": "stdout",
          "text": [
            "(8000,)\n"
          ]
        }
      ]
    },
    {
      "cell_type": "code",
      "source": [
        "groundWindowWidth = (scalerX.inverse_transform(X_test)[:,3])"
      ],
      "metadata": {
        "id": "pvuUwIWX7BvR"
      },
      "execution_count": 40,
      "outputs": []
    },
    {
      "cell_type": "code",
      "source": [
        "#PLOT DAYLIGHT \n",
        "plot_comparison(groundWindowWidth, y_pred_01, y_truth_01, \"ground Window Width\", \"View percentage\")"
      ],
      "metadata": {
        "colab": {
          "base_uri": "https://localhost:8080/",
          "height": 627
        },
        "id": "443Z8sjn7Dum",
        "outputId": "068927cd-f097-4695-e408-78182c418307"
      },
      "execution_count": 41,
      "outputs": [
        {
          "output_type": "display_data",
          "data": {
            "text/plain": [
              "<Figure size 1440x720 with 1 Axes>"
            ],
            "image/png": "[encoded data removed]"
          },
          "metadata": {}
        }
      ]
    },
    {
      "cell_type": "code",
      "metadata": {
        "id": "6abeDxfon1UB",
        "colab": {
          "base_uri": "https://localhost:8080/",
          "height": 611
        },
        "outputId": "87ea9bec-0a46-474f-af63-69b9bee5fa92"
      },
      "source": [
        "error = y_pred - y_truth\n",
        "plt.hist(error, bins=25)\n",
        "plt.xlabel('Prediction Error')\n",
        "_ = plt.ylabel('Count')"
      ],
      "execution_count": 42,
      "outputs": [
        {
          "output_type": "display_data",
          "data": {
            "text/plain": [
              "<Figure size 720x720 with 1 Axes>"
            ],
            "image/png": "[encoded data removed]"
          },
          "metadata": {}
        }
      ]
    },
    {
      "cell_type": "markdown",
      "source": [
        "model saving"
      ],
      "metadata": {
        "id": "EGz1ANcUxfd4"
      }
    },
    {
      "cell_type": "code",
      "source": [
        "#https://www.tensorflow.org/guide/keras/save_and_serialize\n",
        "model.save(\"/content/gdrive/MyDrive/ColabNotebooks/DataEncoding/atrium_SDA+ASE_regression_analysis/atriumModel1.h5\")\n",
        "\n",
        "\n",
        "\n",
        "scalerX_filename = \"/content/gdrive/MyDrive/ColabNotebooks/DataEncoding/atrium_SDA+ASE_regression_analysis/scalerXAtoB.save\"\n",
        "joblib.dump(scalerX, scalerX_filename)\n",
        "\n",
        "scalerY_filename = \"/content/gdrive/MyDrive/ColabNotebooks/DataEncoding/atrium_SDA+ASE_regression_analysis/scalerYAtoB.save\"\n",
        "joblib.dump(scalerY, scalerY_filename)\n"
      ],
      "metadata": {
        "colab": {
          "base_uri": "https://localhost:8080/"
        },
        "id": "_SMvLzexxjV8",
        "outputId": "d0b287c2-e5e3-476a-a44c-796a53cc98a6"
      },
      "execution_count": 29,
      "outputs": [
        {
          "output_type": "execute_result",
          "data": {
            "text/plain": [
              "['/content/gdrive/MyDrive/ColabNotebooks/DataEncoding/atrium_SDA+ASE_regression_analysis/scalerYAtoB.save']"
            ]
          },
          "metadata": {},
          "execution_count": 29
        }
      ]
    }
  ]
}